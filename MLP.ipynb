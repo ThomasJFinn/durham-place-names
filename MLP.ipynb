{
 "cells": [
  {
   "cell_type": "markdown",
   "id": "207488de",
   "metadata": {},
   "source": [
    "# Generating new places in County Durham with neural networks\n",
    "\n",
    "In the previous notebook we used bigrams to generate place names in County Durham as a basline model. Our goal now is to implement a neural network for the same task. We will see that performance is improved and we begin to generate place names that are more plausible.\n",
    "\n",
    "We use a _multi-layer perceptron_ to generate the next character in a sequence of text in the spririt of [Bengio et al](https://www.jmlr.org/papers/volume3/bengio03a/bengio03a.pdf). We build the network from the ground up, closely following the [Andrej Karpathy video](https://www.youtube.com/watch?v=TCH_1BHY58I&t=2033s).\n",
    "\n",
    "<font color='0789DF'>Table of contents<font><a class='anchor' id='top'></a>\n",
    "- [Setting up](#settingup)\n",
    "- [Building the dataset](#buildingdataset)\n",
    "- [Network architecture](#architecture)\n",
    "- [Lookup table](#lookuptable)\n",
    "- [Hidden layer](#hiddenlayer)\n",
    "- [Training the neural network](#training)\n",
    "- [Evaluating the neural network](#eval)\n",
    "- [Sampling from the neural network](#generating)"
   ]
  },
  {
   "cell_type": "markdown",
   "id": "baee091d",
   "metadata": {},
   "source": [
    "## Setting up <a class=\"anchor\" id=\"settingup\">\n",
    "\n",
    "The following libraries are required for the neural networks we will build and for plotting."
   ]
  },
  {
   "cell_type": "code",
   "execution_count": 47,
   "id": "e227b875",
   "metadata": {},
   "outputs": [],
   "source": [
    "import torch\n",
    "import torch.nn.functional as F\n",
    "import matplotlib.pyplot as plt\n",
    "%matplotlib inline"
   ]
  },
  {
   "cell_type": "markdown",
   "id": "8b32e212",
   "metadata": {},
   "source": [
    "Let's import the dataset of place names in County Durham."
   ]
  },
  {
   "cell_type": "code",
   "execution_count": 48,
   "id": "0d3dfe7e",
   "metadata": {},
   "outputs": [],
   "source": [
    "places = open('place_names_durham.txt', 'r').read().splitlines()"
   ]
  },
  {
   "cell_type": "code",
   "execution_count": 49,
   "id": "ee8fbcf5",
   "metadata": {},
   "outputs": [
    {
     "data": {
      "text/plain": [
       "['addison', 'adelaide bank', 'aislaby', 'albany', 'albert hill']"
      ]
     },
     "execution_count": 49,
     "metadata": {},
     "output_type": "execute_result"
    }
   ],
   "source": [
    "places[:5]"
   ]
  },
  {
   "cell_type": "markdown",
   "id": "56c837b8",
   "metadata": {},
   "source": [
    "We can check to see all the characters contained in `places`."
   ]
  },
  {
   "cell_type": "code",
   "execution_count": 50,
   "id": "38addc64",
   "metadata": {},
   "outputs": [
    {
     "name": "stdout",
     "output_type": "stream",
     "text": [
      "{1: ' ', 2: \"'\", 3: '-', 4: 'a', 5: 'b', 6: 'c', 7: 'd', 8: 'e', 9: 'f', 10: 'g', 11: 'h', 12: 'i', 13: 'j', 14: 'k', 15: 'l', 16: 'm', 17: 'n', 18: 'o', 19: 'p', 20: 'q', 21: 'r', 22: 's', 23: 't', 24: 'u', 25: 'v', 26: 'w', 27: 'x', 28: 'y', 29: 'z', 0: '.'}\n"
     ]
    }
   ],
   "source": [
    "chars = sorted(list(set(''.join(places))))\n",
    "stoi = {s:i+1 for i,s in enumerate(chars)}\n",
    "stoi['.'] = 0\n",
    "itos = {i:s for s,i in stoi.items()}\n",
    "vocab_size = len(itos)\n",
    "print(itos)"
   ]
  },
  {
   "cell_type": "markdown",
   "id": "4674b740",
   "metadata": {},
   "source": [
    "Our neural network will see each character through an integer label and we map this using the dictionary `stoi`. Similarly, the dictionary that maps in the other direction is `itos`. Recall that we introduce a fullstop to indicate the beginning or end of a place name."
   ]
  },
  {
   "cell_type": "code",
   "execution_count": 51,
   "id": "422b8c59",
   "metadata": {},
   "outputs": [],
   "source": [
    "stoi = {s:i+1 for i,s in enumerate(chars)}\n",
    "stoi['.'] = 0\n",
    "\n",
    "itos = {i:s for s,i in stoi.items()}"
   ]
  },
  {
   "cell_type": "markdown",
   "id": "c99d9e93",
   "metadata": {},
   "source": [
    "## Building the dataset <a class=\"anchor\" id=\"buildingdataset\">\n",
    "\n",
    "To train our model we first build up the requisite datasets that will be fed into our neural network.\n",
    "\n",
    "__What is the basic idea of our neural network?__ The input to our neural network will be a sequence of characters encoded by integers. The number of characters will be given by the variable `block_size` that is sometimes referred to as the _context_. The output of our neural network is a vector of probabilities on the character set determining which character should come next. \n",
    "    \n",
    "If the sequence of characters fed into the model was `d`, `u` and `r` then we would like it to assign a large probability that `h` is next as the model should recognise `Durham` as a place name."
   ]
  },
  {
   "cell_type": "code",
   "execution_count": 52,
   "id": "3ada1c9c",
   "metadata": {},
   "outputs": [],
   "source": [
    "block_size = 3"
   ]
  },
  {
   "cell_type": "markdown",
   "id": "45607fb3",
   "metadata": {},
   "source": [
    "From the dataset `places` we can construct an input tensor `X` and the corresponding true output `Y` through the function `build_dataset`."
   ]
  },
  {
   "cell_type": "code",
   "execution_count": 53,
   "id": "eac7453c",
   "metadata": {},
   "outputs": [],
   "source": [
    "def build_dataset(places):\n",
    "    \n",
    "    X, Y = [], []\n",
    "    \n",
    "    for w in places:\n",
    "        context = [0] * block_size\n",
    "        for ch in w + '.':\n",
    "            ix = stoi[ch]\n",
    "            X.append(context)\n",
    "            Y.append(ix)\n",
    "            context = context[1:] + [ix]\n",
    "        \n",
    "    X = torch.tensor(X)\n",
    "    Y = torch.tensor(Y)\n",
    "    return X, Y"
   ]
  },
  {
   "cell_type": "markdown",
   "id": "85320e95",
   "metadata": {},
   "source": [
    "We split our data into three sets:\n",
    " - _Training set_: Data to train our model ~80%\n",
    " - _Validation set_: Data to tune hyperparameters and check model is not overfitting ~10%\n",
    " - _Test set_: Data to test model performance on ~10%\n",
    " \n",
    "__Random shuffling is useful__. We randomly shuffle the data so that the model does not learn any patterns in how the data was stored. If we fed the data in alphabetically, the model would not see that many place names begin with a `W` and the test loss would be much larger than we expect."
   ]
  },
  {
   "cell_type": "code",
   "execution_count": 54,
   "id": "52fc1366",
   "metadata": {},
   "outputs": [],
   "source": [
    "import random\n",
    "random.seed(42)\n",
    "random.shuffle(places)\n",
    "n1 = int(0.8*len(places))\n",
    "n2 = int(0.9*len(places))\n",
    "\n",
    "Xtr, Ytr = build_dataset(places[:n1])\n",
    "Xdev, Ydev = build_dataset(places[n1:n2])\n",
    "Xte, Yte = build_dataset(places[n2:])"
   ]
  },
  {
   "cell_type": "markdown",
   "id": "656d4987",
   "metadata": {},
   "source": [
    "Let's have a sanity check to see if the data is in the form we desired."
   ]
  },
  {
   "cell_type": "code",
   "execution_count": 55,
   "id": "f2def473",
   "metadata": {},
   "outputs": [
    {
     "data": {
      "text/plain": [
       "(torch.Size([11433, 3]), torch.int64, torch.Size([11433]), torch.int64)"
      ]
     },
     "execution_count": 55,
     "metadata": {},
     "output_type": "execute_result"
    }
   ],
   "source": [
    "Xtr.shape, Xtr.dtype, Ytr.shape, Ytr.dtype"
   ]
  },
  {
   "cell_type": "markdown",
   "id": "3110a7f1",
   "metadata": {},
   "source": [
    "Each row in `Xtr` contains three (=`block_size`) integers that encodes characters. The entries in `Ytr` corresponds to the integer that encodes the next letter. This is visualised below."
   ]
  },
  {
   "cell_type": "code",
   "execution_count": 56,
   "id": "c1f0b9c5-fdfd-4e02-9750-db47a459d703",
   "metadata": {},
   "outputs": [
    {
     "name": "stdout",
     "output_type": "stream",
     "text": [
      "... --> e\n",
      "..e --> g\n",
      ".eg --> g\n",
      "egg --> l\n",
      "ggl --> e\n",
      "gle --> s\n",
      "les --> c\n",
      "esc --> l\n",
      "scl --> i\n",
      "cli --> f\n",
      "lif --> f\n",
      "iff --> e\n",
      "ffe --> .\n",
      "... --> a\n",
      "..a --> l\n",
      ".al --> s\n",
      "als --> t\n",
      "lst --> o\n",
      "sto --> n\n",
      "ton -->  \n"
     ]
    }
   ],
   "source": [
    "for x,y in zip(Xtr[:20], Ytr[:20]):\n",
    "    print(''.join(itos[ix.item()] for ix in x), '-->', itos[y.item()])"
   ]
  },
  {
   "cell_type": "markdown",
   "id": "45532a04",
   "metadata": {},
   "source": [
    "## Network architecture <a class=\"anchor\" id=\"architecture\">\n",
    "    \n",
    "The input to our neural network is a sequence of characters encoded by integers and the output is a vector of probabilities. How do we go from input to output? Below is a diagram that sketches the idea."
   ]
  },
  {
   "attachments": {
    "ad972afe-5bc6-4e4f-89ad-52195f3cdf87.png": {
     "image/png": "[encoded data removed]"
    }
   },
   "cell_type": "markdown",
   "id": "38f01e00-d7e5-45e2-8aad-90b90fe873a9",
   "metadata": {},
   "source": [
    "![NN.png](attachment:ad972afe-5bc6-4e4f-89ad-52195f3cdf87.png)"
   ]
  },
  {
   "cell_type": "markdown",
   "id": "6c568342",
   "metadata": {},
   "source": [
    "The input is a sequence of three characters `char1`, `char2` and `char3`. Each character is converted into a two-dimensional vector through a _lookup table_ `C`.\n",
    "\n",
    "The three vectors are flattened into a single vector `emb` and passed into the hidden layer through the operation `emb @ W1 + b1` where `W1` is a matrix of weights and `b1` is the bias. Note that `emb` is referencing that the characters are _embedded_ in a two-dimensional space.\n",
    "\n",
    "Output from the hidden layer is passed through a tanh activation function to obtain a vector `h`. Define `logits` to be the vector given by `h @ W2 + b2` where `W2` is a matrix of weights and `b2` is the bias. \n",
    "\n",
    "\n",
    "`logits` is then converted into probabilities through a [softmax function](https://en.wikipedia.org/wiki/Softmax_function).\n",
    "\n",
    "The goal of training the neural network is to find weights and biases that will find the best mapping to correctly predict the next character in the training set in such a way that will generalise well to unseen data.\n",
    "\n",
    "We will go through each step in detail below."
   ]
  },
  {
   "cell_type": "markdown",
   "id": "f4f64cc5",
   "metadata": {},
   "source": [
    "## Lookup table <a class=\"anchor\" id=\"lookuptable\">\n",
    "\n",
    "We embed each character in two-dimensions through a _lookup table_ `C`. We initialise `C` randomly according to unit normal random variables and `C` will be updated when training our neural network. Note that the choice of a two-dimensional embedding is a choice that we can make through the variable `n_embd`."
   ]
  },
  {
   "cell_type": "code",
   "execution_count": 57,
   "id": "9c67a135",
   "metadata": {},
   "outputs": [
    {
     "data": {
      "text/plain": [
       "tensor([-3.1818, -1.7203])"
      ]
     },
     "execution_count": 57,
     "metadata": {},
     "output_type": "execute_result"
    }
   ],
   "source": [
    "n_embd = 2\n",
    "\n",
    "C = torch.randn((vocab_size, n_embd))\n",
    "C[5]"
   ]
  },
  {
   "cell_type": "markdown",
   "id": "5705e606",
   "metadata": {},
   "source": [
    "__Why do we introduce the lookup table?__ The lookup table can be viewed as an embedding of the characters in two-dimensions. This embedding allows the neural network to learn when characters share similar attributes while also treating them as distinct. Thus lookup tables allow neural networks to learn much more structure about place names than $n$-grams can.\n",
    "\n",
    "We create an embedding of the training set `Xtr` in two-dimensions with the variable `emb`."
   ]
  },
  {
   "cell_type": "code",
   "execution_count": 58,
   "id": "58ce1039",
   "metadata": {},
   "outputs": [
    {
     "data": {
      "text/plain": [
       "torch.Size([11433, 3, 2])"
      ]
     },
     "execution_count": 58,
     "metadata": {},
     "output_type": "execute_result"
    }
   ],
   "source": [
    "emb = C[Xtr]\n",
    "emb.shape"
   ]
  },
  {
   "cell_type": "markdown",
   "id": "5fd8739f",
   "metadata": {},
   "source": [
    "## Hidden layer <a class=\"anchor\" id=\"hiddenlayer\">\n",
    "\n",
    "The network is fed three characters that are converted to integers that are then embedded in two-dimenions by the lookup table `C`. Hence what we feed into the hidden layer will be a six-dimensional object.\n",
    "\n",
    "The number of units in the hidden layer can be chosen and we fix it to be 100 through the variable `n_hidden`. The initial weights of the network are unit gaussian random variables.\n",
    "    \n",
    "__Why unit gaussian random variables?__ A random starting initialisation is useful to break symmetry to ensure the full capacity of the model is used during training. A gaussian distribution is symmetric with thin tails which will output reasonable values. \n",
    "    \n",
    "__But why unit gaussian?__ A good question! Zero mean and variance one seems like an ad hoc choice. For now, it will suit our purposes. When improving our network we see how a clever choice of scaling will improve how the network initially learns! If you're keen to know more now then look into [Kaiming initialisation](https://paperswithcode.com/method/he-initialization)."
   ]
  },
  {
   "cell_type": "code",
   "execution_count": 59,
   "id": "53a5f5bc",
   "metadata": {},
   "outputs": [],
   "source": [
    "n_hidden = 100\n",
    "\n",
    "W1 = torch.randn((n_embd * block_size, n_hidden))\n",
    "b1 = torch.randn(n_hidden)"
   ]
  },
  {
   "cell_type": "markdown",
   "id": "74e235b6",
   "metadata": {},
   "source": [
    "We want to compute `emb @ W1 + b1` but the dimensions do not agree.\n",
    "\n",
    "We need to concatenate the inputs so that we can have `11433x6` dimensions rather than `11433x3x2` dimensions for `emb`.\n",
    "\n",
    "The following code is an easy way of doing this."
   ]
  },
  {
   "cell_type": "code",
   "execution_count": 60,
   "id": "f45b67f6",
   "metadata": {},
   "outputs": [
    {
     "data": {
      "text/plain": [
       "torch.Size([11433, 6])"
      ]
     },
     "execution_count": 60,
     "metadata": {},
     "output_type": "execute_result"
    }
   ],
   "source": [
    "torch.cat(torch.unbind(emb, 1), 1).shape"
   ]
  },
  {
   "cell_type": "markdown",
   "id": "a1d06d4b",
   "metadata": {},
   "source": [
    "An even better way is using `.view`! A major benefit of manipulating tensors with `.view` is that it does not require any additional memory. Find out more about PyTorch internals in [Edward Yang's blog post](http://blog.ezyang.com/2019/05/pytorch-internals/)."
   ]
  },
  {
   "cell_type": "code",
   "execution_count": 61,
   "id": "512b0b01",
   "metadata": {},
   "outputs": [
    {
     "data": {
      "text/plain": [
       "torch.Size([11433, 6])"
      ]
     },
     "execution_count": 61,
     "metadata": {},
     "output_type": "execute_result"
    }
   ],
   "source": [
    "emb.view(-1, n_embd * block_size).shape"
   ]
  },
  {
   "cell_type": "markdown",
   "id": "49eefc87",
   "metadata": {},
   "source": [
    "Observe that `b1.shape = torch.Size([100])`. How does `emb.view(-1, 6) @ W1 + b1` make sense when the dimensions do not agree? PyTorch fixes this with _broadcasting_.\n",
    "\n",
    "If a dimension in a tensor is either 1 or does not exist, then PyTorch will adopt the broadcasting rules that will fill in the dimensions needed for addition to make sense.\n",
    "\n",
    "We pass through a tanh activation function with `torch.tanh`."
   ]
  },
  {
   "cell_type": "code",
   "execution_count": 62,
   "id": "c785abaf",
   "metadata": {},
   "outputs": [
    {
     "data": {
      "text/plain": [
       "torch.Size([11433, 100])"
      ]
     },
     "execution_count": 62,
     "metadata": {},
     "output_type": "execute_result"
    }
   ],
   "source": [
    "h = torch.tanh(emb.view(-1, n_embd * block_size) @ W1 + b1)\n",
    "h.shape"
   ]
  },
  {
   "cell_type": "markdown",
   "id": "3b9d207a",
   "metadata": {},
   "source": [
    "The next layer takes `h` as input and maps to each character through the mapping `h @ W2 + b2` where `W2` and `b2` are initialised as unit normal random variables."
   ]
  },
  {
   "cell_type": "code",
   "execution_count": 63,
   "id": "c375638d",
   "metadata": {},
   "outputs": [
    {
     "data": {
      "text/plain": [
       "torch.Size([11433, 30])"
      ]
     },
     "execution_count": 63,
     "metadata": {},
     "output_type": "execute_result"
    }
   ],
   "source": [
    "W2 = torch.randn((n_hidden, vocab_size))\n",
    "b2 = torch.randn(vocab_size)\n",
    "\n",
    "logits = h @ W2 + b2\n",
    "logits.shape"
   ]
  },
  {
   "cell_type": "markdown",
   "id": "7eced6d9",
   "metadata": {},
   "source": [
    "We exponentiate to avoid numerical underflow issues and then normalise to assign a probability to each character of occuring next after the input sequence."
   ]
  },
  {
   "cell_type": "code",
   "execution_count": 64,
   "id": "9b36306b",
   "metadata": {},
   "outputs": [
    {
     "data": {
      "text/plain": [
       "torch.Size([11433, 30])"
      ]
     },
     "execution_count": 64,
     "metadata": {},
     "output_type": "execute_result"
    }
   ],
   "source": [
    "counts = logits.exp()\n",
    "prob = counts / counts.sum(1, keepdims=True)\n",
    "prob.shape"
   ]
  },
  {
   "cell_type": "markdown",
   "id": "ee1701e8",
   "metadata": {},
   "source": [
    "__From our input of three characters we now have a vector of probabilities corresponding to the next character!__ Exactly. We want our neural network to take advantage of its architecture to _learn_ how to tune its weights so that it will minimise its loss on the training set. Recall that the loss is the negative log-likelihood with respect to the _true_ next character. "
   ]
  },
  {
   "cell_type": "code",
   "execution_count": 65,
   "id": "b80f10f0",
   "metadata": {},
   "outputs": [
    {
     "data": {
      "text/plain": [
       "tensor(15.9730)"
      ]
     },
     "execution_count": 65,
     "metadata": {},
     "output_type": "execute_result"
    }
   ],
   "source": [
    "loss = -prob[torch.arange(11433), Ytr].log().mean()\n",
    "loss"
   ]
  },
  {
   "cell_type": "markdown",
   "id": "d9956753",
   "metadata": {},
   "source": [
    "## Training the neural network <a class=\"anchor\" id=\"training\">\n",
    "\n",
    "For clarity we reinitialise our parameters below and store them together as `parameters`."
   ]
  },
  {
   "cell_type": "code",
   "execution_count": 66,
   "id": "aae0afa5",
   "metadata": {},
   "outputs": [
    {
     "name": "stdout",
     "output_type": "stream",
     "text": [
      "Total number of parameters: 3790\n"
     ]
    }
   ],
   "source": [
    "n_embd = 2\n",
    "n_hidden = 100\n",
    "\n",
    "C = torch.randn((vocab_size, n_embd))\n",
    "W1 = torch.randn((n_embd * block_size, n_hidden))\n",
    "b1 = torch.randn(n_hidden)\n",
    "W2 = torch.randn((n_hidden, vocab_size))\n",
    "b2 = torch.randn(vocab_size)\n",
    "\n",
    "parameters = [C, W1, b1, W2, b2]\n",
    "num_pars = sum(p.nelement() for p in parameters)\n",
    "print(f'Total number of parameters: {num_pars}')"
   ]
  },
  {
   "cell_type": "markdown",
   "id": "9def14de",
   "metadata": {},
   "source": [
    "To implement backpropagation to train our network we need to store the values of the gradient with respect to the parameters in a computational graph. Hence we need to tell our network that we will be storing our gradient values."
   ]
  },
  {
   "cell_type": "code",
   "execution_count": 67,
   "id": "f5106080",
   "metadata": {},
   "outputs": [],
   "source": [
    "for p in parameters:\n",
    "    p.requires_grad = True"
   ]
  },
  {
   "cell_type": "markdown",
   "id": "ae943ad6",
   "metadata": {},
   "source": [
    "__Are there situations when we do not need to store the gradient?__ Calculating gradients can be computationally expensive. If we just wanted to evaluate the network then we set `p.requires_grad = False` for each parameter `p` and save having to store gradients."
   ]
  },
  {
   "cell_type": "code",
   "execution_count": 68,
   "id": "79cf3dca",
   "metadata": {},
   "outputs": [
    {
     "name": "stdout",
     "output_type": "stream",
     "text": [
      "2.166888475418091\n"
     ]
    }
   ],
   "source": [
    "lossi = []\n",
    "lossvali = []\n",
    "stepi = []\n",
    "\n",
    "# regularisation parameter\n",
    "lambda_value = 0.002\n",
    "\n",
    "for i in range(20000):\n",
    "    # minibatch construction\n",
    "    ix = torch.randint(0, Xtr.shape[0], (32,))\n",
    "    \n",
    "    # forward pass\n",
    "    emb = C[Xtr[ix]]\n",
    "    h = torch.tanh(emb.view(-1, 6) @ W1 + b1)\n",
    "    logits = h @ W2 + b2\n",
    "    loss = F.cross_entropy(logits, Ytr[ix])\n",
    "\n",
    "    # backward pass\n",
    "    for p in parameters:\n",
    "        p.grad=None\n",
    "    loss.backward()\n",
    "\n",
    "    # update\n",
    "    lr = 0.1 if i < 15000 else 0.01\n",
    "    for p in parameters:\n",
    "        p.data += -lr * (p.grad + lambda_value * p.data)\n",
    "        \n",
    "    # track stats\n",
    "    stepi.append(i)\n",
    "    lossi.append(loss.item())\n",
    "    \n",
    "    # track validation loss\n",
    "    with torch.no_grad():\n",
    "        emb_valid = C[Xdev]\n",
    "        h_valid = torch.tanh(emb_valid.view(-1, 6) @ W1 + b1)\n",
    "        logits_valid = h_valid @ W2 + b2\n",
    "        loss_valid = F.cross_entropy(logits_valid, Ydev)\n",
    "        lossvali.append(loss_valid.item())\n",
    "        \n",
    "print(loss.item())"
   ]
  },
  {
   "cell_type": "markdown",
   "id": "cc075572",
   "metadata": {},
   "source": [
    "__What is the purpose of__ `lambda_value`__?__ When updating the parameters we implement a _weight penalisation_. In effect, we are reducing the capacity of the model in order to ward against overfitting. The variable `lambda_value` controls the strength of this regularisation. "
   ]
  },
  {
   "cell_type": "markdown",
   "id": "1eed3999",
   "metadata": {},
   "source": [
    "## Evaluating the neural network <a class=\"anchor\" id=\"eval\">\n",
    "    \n",
    "To better understand how our network is performing we will plot the training loss and validation loss over the training phase."
   ]
  },
  {
   "cell_type": "code",
   "execution_count": 69,
   "id": "2dd263f7",
   "metadata": {},
   "outputs": [
    {
     "data": {
      "image/png": "[encoded data removed]",
      "text/plain": [
       "<Figure size 1000x600 with 1 Axes>"
      ]
     },
     "metadata": {},
     "output_type": "display_data"
    }
   ],
   "source": [
    "plt.figure(figsize=(10, 6))\n",
    "plt.plot(stepi, lossi, label=\"Training Loss\")\n",
    "plt.plot(stepi, lossvali, label=\"Validation Loss\")\n",
    "plt.xlabel(\"Training Step\")\n",
    "plt.ylabel(\"Loss\")\n",
    "plt.legend()\n",
    "plt.show()"
   ]
  },
  {
   "cell_type": "markdown",
   "id": "f08458f7",
   "metadata": {},
   "source": [
    "__Why is the initial loss so high?__ The initial loss is higher than it would be the model chose characters uniformly at random. The issue is the initial choice of weights and that the model is confidently wrong at the start and must spend time in the training loop moving away from the initial weights. \n",
    "\n",
    "__Why is the plot for the training loss so thick?__ There is randomness in the generation of batches and different batches will have different losses. One way to produce clearer plots is to take the mean over many training steps. We see this below."
   ]
  },
  {
   "cell_type": "code",
   "execution_count": 70,
   "id": "7d65d54b",
   "metadata": {},
   "outputs": [
    {
     "data": {
      "image/png": "[encoded data removed]",
      "text/plain": [
       "<Figure size 1000x600 with 1 Axes>"
      ]
     },
     "metadata": {},
     "output_type": "display_data"
    }
   ],
   "source": [
    "plt.figure(figsize=(10, 6))\n",
    "plt.plot(torch.tensor(lossi).view(-1, 1000).mean(1), label=\"Training Loss\")\n",
    "plt.plot(torch.tensor(lossvali).view(-1, 1000).mean(1), label=\"Validation Loss\")\n",
    "plt.xlabel(\"Training Step (thousands)\")\n",
    "plt.ylabel(\"Loss\")\n",
    "plt.legend()\n",
    "plt.show()"
   ]
  },
  {
   "cell_type": "markdown",
   "id": "dddabf20",
   "metadata": {},
   "source": [
    "That's clearer! \n",
    "\n",
    "Observe that the training loss is strictly less than the validation loss. This is to be expected as the model does not train on the validation set. The fact that both the training loss and validation are smaller than our benchmark means that our model is performing much better than the bigram model without overfitting.\n",
    "\n",
    "As a final test we check the loss on the test set."
   ]
  },
  {
   "cell_type": "code",
   "execution_count": 71,
   "id": "2e18b379",
   "metadata": {},
   "outputs": [
    {
     "data": {
      "text/plain": [
       "2.0828118324279785"
      ]
     },
     "execution_count": 71,
     "metadata": {},
     "output_type": "execute_result"
    }
   ],
   "source": [
    "emb = C[Xte]\n",
    "h = torch.tanh(emb.view(-1, 6) @ W1 + b1) \n",
    "logits = h @ W2 + b2\n",
    "loss = F.cross_entropy(logits, Yte)\n",
    "loss.item()"
   ]
  },
  {
   "cell_type": "markdown",
   "id": "75865e75",
   "metadata": {},
   "source": [
    "All our losses are significantly lower than the baseline of `2.42` from the bigram model and thus we have an improved method to sample new place names in County Durham!"
   ]
  },
  {
   "cell_type": "markdown",
   "id": "6adac459",
   "metadata": {},
   "source": [
    "## Sampling from the neural network <a class=\"anchor\" id=\"generating\">\n",
    "    \n",
    "With our shiny new model we can sample new places names in County Durham. How well will we do?"
   ]
  },
  {
   "cell_type": "code",
   "execution_count": 74,
   "id": "b6cbc5a7",
   "metadata": {},
   "outputs": [
    {
     "name": "stdout",
     "output_type": "stream",
     "text": [
      "Naton Ticgeswowen.\n",
      "Low Haleasastath.\n",
      "Rem.\n",
      "Linbiphame.\n",
      "Geoxtaston Leverttige.\n",
      "Med Anortwsle.\n",
      "Ideycla.\n",
      "Wullitdor Hdon Wore Wawestick.\n",
      "Khsle 'Urgntr.\n",
      "Mill Ton.\n",
      "Eadortate.\n",
      "Wedcaidfe Meaytfate.\n",
      "Glow-Told Jouth Este Grteadh.\n",
      "Sill.\n",
      "Furk.\n",
      "Tenamon.\n",
      "Llzdindollankteeson.\n",
      "Saghe.\n",
      "Nokkmmile Vo'Newhon.\n",
      "Keumnstonddingars.\n"
     ]
    }
   ],
   "source": [
    "g = torch.Generator().manual_seed(21448347)\n",
    "\n",
    "for _ in range(20):\n",
    "    \n",
    "    out = []\n",
    "    context = [0] * block_size\n",
    "    while True:\n",
    "        emb = C[torch.tensor([context])]\n",
    "        h = torch.tanh(emb.view(1, -1) @ W1 + b1)\n",
    "        logits = h @ W2 + b2\n",
    "        probs = F.softmax(logits, dim=1)\n",
    "        ix = torch.multinomial(probs, num_samples=1, generator=g).item()\n",
    "        context = context[1:] + [ix]\n",
    "        out.append(ix)\n",
    "        if ix == 0:\n",
    "            break\n",
    "            \n",
    "    output_string = ''.join(itos[i] for i in out)\n",
    "    capitalized_output = output_string.title()\n",
    "    \n",
    "    print(capitalized_output)"
   ]
  },
  {
   "cell_type": "markdown",
   "id": "da031892",
   "metadata": {},
   "source": [
    "Notably better than the bigram model! However, we are still far from believable place names.\n",
    "\n",
    "__Why don't we increase__ `block_size` __or the number of neurons?__ While increasing the context length or the size of the hidden layer will increase the capacity of the network, it is not a _scalable_ solution. It turns out that a better solution will be to have a _deeper_ network that is appropriately regularized. In the next notebook we will improve upon our neural network by adopting a more complex architecture along with a number of ways to ensure the model can still train efficiently."
   ]
  }
 ],
 "metadata": {
  "kernelspec": {
   "display_name": "Python 3 (ipykernel)",
   "language": "python",
   "name": "python3"
  },
  "language_info": {
   "codemirror_mode": {
    "name": "ipython",
    "version": 3
   },
   "file_extension": ".py",
   "mimetype": "text/x-python",
   "name": "python",
   "nbconvert_exporter": "python",
   "pygments_lexer": "ipython3",
   "version": "3.9.13"
  }
 },
 "nbformat": 4,
 "nbformat_minor": 5
}
